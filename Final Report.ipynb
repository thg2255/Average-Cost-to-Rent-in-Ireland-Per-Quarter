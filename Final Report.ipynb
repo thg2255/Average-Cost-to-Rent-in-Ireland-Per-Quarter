{
 "cells": [
  {
   "cell_type": "code",
   "execution_count": 2,
   "id": "8493c8ac",
   "metadata": {},
   "outputs": [],
   "source": [
    "# Importing Packages\n",
    "\n",
    "%matplotlib inline\n",
    "import sys\n",
    "import json\n",
    "import random\n",
    "import pickle\n",
    "import datetime\n",
    "import numpy as np\n",
    "import pandas as pd\n",
    "from scipy import stats\n",
    "import statsmodels.api as sm\n",
    "from collections import Counter\n",
    "import matplotlib.pyplot as plt\n",
    "from scipy.optimize import curve_fit\n",
    "from scipy.special import factorial\n",
    "from scipy.stats import poisson\n",
    "import matplotlib.pyplot as plt\n",
    "from collections import defaultdict\n",
    "from nltk.tokenize import MWETokenizer"
   ]
  },
  {
   "cell_type": "markdown",
   "id": "5b0299c3",
   "metadata": {},
   "source": [
    "# 1. Average Rent in Ireland"
   ]
  },
  {
   "cell_type": "code",
   "execution_count": 3,
   "id": "5b47bab7",
   "metadata": {},
   "outputs": [],
   "source": [
    "# Not a large dataset so no point in using json\n",
    "\n",
    "average_rent = pd.read_csv(r\"C:\\Users\\green\\Downloads\\STND RNT Q2 2023.csv\")"
   ]
  },
  {
   "cell_type": "code",
   "execution_count": 4,
   "id": "05aa701d",
   "metadata": {},
   "outputs": [],
   "source": [
    "# There is an obligatory space at the end of National and Unnamed: 0 Doesn't make sense\n",
    "\n",
    "average_rent.rename(columns = {'National ':'National', 'Unnamed: 0':'Quarter'}, inplace = True)"
   ]
  },
  {
   "cell_type": "code",
   "execution_count": 5,
   "id": "de9c9ef0",
   "metadata": {},
   "outputs": [
    {
     "data": {
      "text/plain": [
       "<AxesSubplot:xlabel='Quarter'>"
      ]
     },
     "execution_count": 5,
     "metadata": {},
     "output_type": "execute_result"
    },
    {
     "data": {
      "image/png": "[encoded data removed]",
      "text/plain": [
       "<Figure size 432x288 with 1 Axes>"
      ]
     },
     "metadata": {
      "needs_background": "light"
     },
     "output_type": "display_data"
    }
   ],
   "source": [
    "average_rent.plot(x='Quarter', y=['National', 'Dublin', 'GDA (excl. Dublin)', 'Outside GDA'])"
   ]
  },
  {
   "cell_type": "code",
   "execution_count": 6,
   "id": "eb8e9b14",
   "metadata": {},
   "outputs": [
    {
     "data": {
      "text/html": [
       "<div>\n",
       "<style scoped>\n",
       "    .dataframe tbody tr th:only-of-type {\n",
       "        vertical-align: middle;\n",
       "    }\n",
       "\n",
       "    .dataframe tbody tr th {\n",
       "        vertical-align: top;\n",
       "    }\n",
       "\n",
       "    .dataframe thead th {\n",
       "        text-align: right;\n",
       "    }\n",
       "</style>\n",
       "<table border=\"1\" class=\"dataframe\">\n",
       "  <thead>\n",
       "    <tr style=\"text-align: right;\">\n",
       "      <th></th>\n",
       "      <th>Quarter</th>\n",
       "      <th>National</th>\n",
       "      <th>Dublin</th>\n",
       "      <th>GDA (excl. Dublin)</th>\n",
       "      <th>Outside GDA</th>\n",
       "    </tr>\n",
       "  </thead>\n",
       "  <tbody>\n",
       "    <tr>\n",
       "      <th>0</th>\n",
       "      <td>Q1 2012</td>\n",
       "      <td>745</td>\n",
       "      <td>961</td>\n",
       "      <td>730</td>\n",
       "      <td>580</td>\n",
       "    </tr>\n",
       "    <tr>\n",
       "      <th>1</th>\n",
       "      <td>Q2 2012</td>\n",
       "      <td>754</td>\n",
       "      <td>996</td>\n",
       "      <td>738</td>\n",
       "      <td>578</td>\n",
       "    </tr>\n",
       "    <tr>\n",
       "      <th>2</th>\n",
       "      <td>Q3 2012</td>\n",
       "      <td>771</td>\n",
       "      <td>1006</td>\n",
       "      <td>743</td>\n",
       "      <td>613</td>\n",
       "    </tr>\n",
       "    <tr>\n",
       "      <th>3</th>\n",
       "      <td>Q4 2012</td>\n",
       "      <td>764</td>\n",
       "      <td>1012</td>\n",
       "      <td>734</td>\n",
       "      <td>587</td>\n",
       "    </tr>\n",
       "    <tr>\n",
       "      <th>4</th>\n",
       "      <td>Q1 2013</td>\n",
       "      <td>761</td>\n",
       "      <td>996</td>\n",
       "      <td>737</td>\n",
       "      <td>580</td>\n",
       "    </tr>\n",
       "  </tbody>\n",
       "</table>\n",
       "</div>"
      ],
      "text/plain": [
       "   Quarter  National  Dublin  GDA (excl. Dublin)  Outside GDA\n",
       "0  Q1 2012       745     961                 730          580\n",
       "1  Q2 2012       754     996                 738          578\n",
       "2  Q3 2012       771    1006                 743          613\n",
       "3  Q4 2012       764    1012                 734          587\n",
       "4  Q1 2013       761     996                 737          580"
      ]
     },
     "execution_count": 6,
     "metadata": {},
     "output_type": "execute_result"
    }
   ],
   "source": [
    "average_rent.head()"
   ]
  },
  {
   "cell_type": "markdown",
   "id": "5a1ecbaf",
   "metadata": {},
   "source": [
    "# Average Income in Ireland"
   ]
  },
  {
   "cell_type": "code",
   "execution_count": 7,
   "id": "6c3c13a4",
   "metadata": {},
   "outputs": [],
   "source": [
    "mean_income = pd.read_csv(r\"C:\\Users\\green\\Downloads\\DEA01.20240226223550.csv\")"
   ]
  },
  {
   "cell_type": "markdown",
   "id": "631f1a8c",
   "metadata": {},
   "source": [
    "Lot's of data cleaning needs to be done on this dataset, mostly condensing. I only want the national average earnings per year, not seperated by gender or economic center."
   ]
  },
  {
   "cell_type": "code",
   "execution_count": 8,
   "id": "6992db3c",
   "metadata": {},
   "outputs": [],
   "source": [
    "# Dropping Employments in Top 1% of Earnings - Median Annual Earnings\n",
    "\n",
    "mean_income = mean_income[mean_income['Statistic Label'] != 'Employments in Top 1% of Earnings - Median Annual Earnings']\n",
    "\n",
    "# Dropping Employments in Top 1% of Earnings - Mean Annual Earnings\n",
    "\n",
    "mean_income = mean_income[mean_income['Statistic Label'] != 'Employments in Top 1% of Earnings - Mean Annual Earnings']\n",
    "\n",
    "# Dropping Employments in Top 10% of Earnings - Median Annual Earnings\n",
    "\n",
    "mean_income = mean_income[mean_income['Statistic Label'] != 'Employments in Top 10% of Earnings - Median Annual Earnings']\n",
    "\n",
    "# Dropping Employments in Top 10% of Earnings - Mean Annual Earnings\n",
    "\n",
    "mean_income = mean_income[mean_income['Statistic Label'] != 'Employments in Top 10% of Earnings - Mean Annual Earnings']\n",
    "\n",
    "# Dropping All Employments - Mean Annual Earnings\n",
    "\n",
    "mean_income = mean_income[mean_income['Statistic Label'] != 'All Employments - Mean Annual Earnings']\n",
    "\n",
    "# Dropping all stats that seperate Male or Female\n",
    "\n",
    "mean_income = mean_income[mean_income['Sex'] != 'Male']\n",
    "mean_income = mean_income[mean_income['Sex'] != 'Female']"
   ]
  },
  {
   "cell_type": "code",
   "execution_count": 9,
   "id": "4bc9a789",
   "metadata": {},
   "outputs": [],
   "source": [
    "# Making sure it is not seperated by economic sector\n",
    "\n",
    "mean_income = mean_income[mean_income['NACE Rev 2 Economic Sector'] == 'All NACE economic sectors']"
   ]
  },
  {
   "cell_type": "code",
   "execution_count": 10,
   "id": "3495ec84",
   "metadata": {},
   "outputs": [],
   "source": [
    "# Dropping unnecessary columns\n",
    "\n",
    "mean_income = mean_income.drop(columns=['STATISTIC', 'Statistic Label', 'TLIST(A1)', 'C02199V02655', \n",
    "                                       'Sex', 'NACE Rev 2 Economic Sector', 'UNIT', 'C02665V03225'])"
   ]
  },
  {
   "cell_type": "code",
   "execution_count": 11,
   "id": "1014b6f8",
   "metadata": {},
   "outputs": [],
   "source": [
    "# Dropping 2011 because that year isn't in the other dataset\n",
    "\n",
    "mean_income = mean_income[mean_income['Year'] != 2011]"
   ]
  },
  {
   "cell_type": "markdown",
   "id": "8485dee4",
   "metadata": {},
   "source": [
    "Now we have to divide every number in the \"value\" row by 12 as the average_rent dataset's  value is monthly, while this is yearly."
   ]
  },
  {
   "cell_type": "code",
   "execution_count": 12,
   "id": "44f65350",
   "metadata": {},
   "outputs": [],
   "source": [
    "mean_income['VALUE'] = mean_income['VALUE'] / 12"
   ]
  },
  {
   "cell_type": "markdown",
   "id": "6fc9b3c1",
   "metadata": {},
   "source": [
    "# Converting Average Income to Quarterly"
   ]
  },
  {
   "cell_type": "code",
   "execution_count": 13,
   "id": "f25f8f6c",
   "metadata": {},
   "outputs": [],
   "source": [
    "# Initializing an empty list\n",
    "\n",
    "duplicated_rows = []\n",
    "\n",
    "for index, row in mean_income.iterrows():\n",
    "    \n",
    "    # Duplicating the row four times and assigning the quarter\n",
    "    \n",
    "    for quarter in ['Q1', 'Q2', 'Q3', 'Q4']:\n",
    "        \n",
    "        # Copy of the original row\n",
    "        \n",
    "        duplicated_row = row.copy()  \n",
    "        \n",
    "        # Assigning the corresponding quarter\n",
    "        \n",
    "        duplicated_row['Quarter'] = quarter\n",
    "        duplicated_rows.append(duplicated_row)\n",
    "\n",
    "# Create a new DataFrame from the duplicated rows\n",
    "\n",
    "mean_income = pd.DataFrame(duplicated_rows)\n",
    "\n",
    "# Resetting the index\n",
    "\n",
    "mean_income.reset_index(drop=True, inplace=True)"
   ]
  },
  {
   "cell_type": "code",
   "execution_count": 14,
   "id": "90a6de18",
   "metadata": {},
   "outputs": [],
   "source": [
    "# I am going to rename \"VALUE\" to \"Average Income\", and \"Quarter\" to \"Q\" so I can have a more similar quarter later\n",
    "\n",
    "mean_income.rename(columns = {'VALUE':'Average Income', 'Quarter':'Q'}, inplace = True)"
   ]
  },
  {
   "cell_type": "code",
   "execution_count": 15,
   "id": "3d34feec",
   "metadata": {},
   "outputs": [],
   "source": [
    "# Creating new Quarter row that will eventuall match the other dataset\n",
    "\n",
    "mean_income.insert(3, 'Quarter', '0')"
   ]
  },
  {
   "cell_type": "code",
   "execution_count": 16,
   "id": "e7742857",
   "metadata": {},
   "outputs": [],
   "source": [
    "# New Quarter row that matches the other dataset\n",
    "\n",
    "mean_income['Quarter'] = mean_income['Q'].astype(str) + ' ' + mean_income['Year'].astype(int).astype(str)"
   ]
  },
  {
   "cell_type": "markdown",
   "id": "9d415d50",
   "metadata": {},
   "source": [
    "# Merging the Datasets"
   ]
  },
  {
   "cell_type": "code",
   "execution_count": 17,
   "id": "8950bc79",
   "metadata": {},
   "outputs": [],
   "source": [
    "# df will be our final merged dataset name, it's what a bunch of websites use as the dataset name so I guess I'll use it\n",
    "\n",
    "df = pd.merge(average_rent, mean_income, on='Quarter')"
   ]
  },
  {
   "cell_type": "markdown",
   "id": "70699fdc",
   "metadata": {},
   "source": [
    "# Adding a Stat\n",
    "I want to add the average increase in cost and income so we can compare the numbers. Find this by looking at the slope."
   ]
  },
  {
   "cell_type": "code",
   "execution_count": 18,
   "id": "bbf003b4",
   "metadata": {},
   "outputs": [],
   "source": [
    "income_slope = (df.at[43, 'Average Income'] - df.at[0, 'Average Income'])/43\n",
    "national_slope = (df.at[43, 'National'] - df.at[0, 'National'])/43\n",
    "dublin_slope = (df.at[43, 'Dublin'] - df.at[0, 'Dublin'])/43\n",
    "\n",
    "figure_stats = \"National Income Increase: +\" + str(national_slope)[:5] + \"\\nDublin Cost Increase: +\" + str(dublin_slope)[:5] + \"\\nAverage Cost Increase: +\" + str(income_slope)[:5]"
   ]
  },
  {
   "cell_type": "markdown",
   "id": "ac80eb5d",
   "metadata": {},
   "source": [
    "# Creating the Final Graph"
   ]
  },
  {
   "cell_type": "code",
   "execution_count": 19,
   "id": "a98df243",
   "metadata": {},
   "outputs": [
    {
     "data": {
      "text/plain": [
       "Text(0.95, 0.5, 'National Income Increase: +17.72\\nDublin Cost Increase: +25.62\\nAverage Cost Increase: +17.29')"
      ]
     },
     "execution_count": 19,
     "metadata": {},
     "output_type": "execute_result"
    },
    {
     "data": {
      "image/png": "[encoded data removed]",
      "text/plain": [
       "<Figure size 432x288 with 1 Axes>"
      ]
     },
     "metadata": {
      "needs_background": "light"
     },
     "output_type": "display_data"
    }
   ],
   "source": [
    "plt.plot(df['Quarter'], df['National'], label='National', linewidth=4, color='#52F5B2')\n",
    "plt.plot(df['Quarter'], df['Dublin'], label='Dublin', linewidth=4, color='#F5C251')\n",
    "plt.plot(df['Quarter'], df['Average Income'], label='Average Yearly Income', linewidth=4, color='#CB51F5')\n",
    "\n",
    "# Every other first quarter is labeled\n",
    "\n",
    "plt.xticks(range(0, 43, 8))\n",
    "\n",
    "plt.xlabel('Quarter')\n",
    "plt.ylabel('Average Monthly Amount (Euros)')\n",
    "plt.title('Average Cost of Housing in Ireland by Quarter')\n",
    "\n",
    "plt.legend(title='Legend', bbox_to_anchor=(1.05, 1), loc='upper left')\n",
    "plt.figtext(.95, 0.50, figure_stats)"
   ]
  }
 ],
 "metadata": {
  "kernelspec": {
   "display_name": "Python 3",
   "language": "python",
   "name": "python3"
  },
  "language_info": {
   "codemirror_mode": {
    "name": "ipython",
    "version": 3
   },
   "file_extension": ".py",
   "mimetype": "text/x-python",
   "name": "python",
   "nbconvert_exporter": "python",
   "pygments_lexer": "ipython3",
   "version": "3.8.8"
  }
 },
 "nbformat": 4,
 "nbformat_minor": 5
}
